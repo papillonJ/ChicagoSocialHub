{
 "cells": [
  {
   "attachments": {},
   "cell_type": "markdown",
   "metadata": {},
   "source": [
    "<div class=\"alert alert-block alert-success\">\n",
    "    \n",
    "    \n",
    "### <center> Divvy Docking Stations </center>\n",
    "### <center> Postgres and ElatsicSearch </center>\n",
    "\n",
    "    \n",
    "</div>"
   ]
  },
  {
   "cell_type": "markdown",
   "metadata": {},
   "source": [
    "\n",
    "<div class=\"alert alert-block alert-warning\">\n",
    "\n",
    "    \n",
    "  \n",
    "\n",
    "## High-level Description:\n",
    "- This script collects Divvy Docking Stations real-time data for the city of Chicago  area from Divvy servers\n",
    "- Use **Postgres** to store real-time status of every docking stattion in Chicago every 2 minutes \n",
    "- Use **ElasticSearch** to store every reported status of every docking stattion in Chicago every 2 minutes in a log file\n",
    "\n",
    "\n",
    "- This python script will send a heartbeat to Divvy every 2 minutes to retrieve the  status of the Divvy dock stations and store the data on PostgreSQL server.\n",
    "\n",
    "\n",
    "\n",
    "</br>\n",
    "</br>\n",
    "\n",
    "</div>\n",
    "\n",
    "<hr style=\"border:5px solid orange\"> </hr>"
   ]
  },
  {
   "cell_type": "markdown",
   "metadata": {},
   "source": [
    "<div class=\"alert alert-block alert-warning\">\n",
    "\n",
    "    \n",
    "  \n",
    "    \n",
    "## Divvy\n",
    "\n",
    "**Divvy** is a bicycle sharing system in the City of Chicago.\n",
    "\n",
    "Click __[here](https://en.wikipedia.org/wiki/Divvy)__ to read more about **Divvy**\n",
    "\n",
    "\n",
    "Click __[here](https://www.divvybikes.com/)__ to visit the official website for **Divvy**\n",
    "\n",
    "    \n",
    "</br>\n",
    "</br>\n",
    "\n",
    "</div>\n",
    "\n",
    "<hr style=\"border:5px solid orange\"> </hr>"
   ]
  },
  {
   "cell_type": "markdown",
   "metadata": {},
   "source": [
    "<div class=\"alert alert-info\">\n",
    "    \n",
    "### PostgreSQL\n",
    "\n",
    "- We will collect the data from **Divvy** servers and store the data in a table on **PostgreSQL** server.\n",
    "\n",
    "- Install and use Postgres release 10 or 13 from Posgres (https://www.postgresql.org/download/)\n",
    "- You need the package **psycopg2** to Connect to **PostgreSQL** server.\n",
    "\n",
    "\n",
    "    \n",
    "- Execute the **pip install** command from the command window to install  the package listed bove:\n",
    " - pip install psycopg2\n",
    "    \n",
    "    \n",
    "    \n",
    "</br>\n",
    "\n",
    "\n",
    "</div>\n",
    "\n",
    "\n",
    "\n",
    "\n",
    "<hr style=\"border:5px solid orange\"> </hr>"
   ]
  },
  {
   "cell_type": "markdown",
   "metadata": {},
   "source": [
    "<div class=\"alert alert-info\">\n",
    "    \n",
    "### ElasticSearch\n",
    "\n",
    "- We will collect the data from **Divvy** servers and store the data in a log (collection/index) of every reported real-time status heartbeat) on **PostgreSQL** server.\n",
    "- Install and Use ElasticSesarch 7.14.0 from ElasticSearch (https://www.elastic.co/downloads/past-releases/elasticsearch-7-14-0)\n",
    "\n",
    "\n",
    "- Execute the **pip install** command from the command window to install  the package listed bove:\n",
    " - pip install elasticsearch\n",
    "    \n",
    "    \n",
    "    \n",
    "</br>\n",
    "\n",
    "\n",
    "</div>\n",
    "\n",
    "\n",
    "\n",
    "\n",
    "<hr style=\"border:5px solid orange\"> </hr>"
   ]
  },
  {
   "cell_type": "code",
   "execution_count": null,
   "metadata": {},
   "outputs": [],
   "source": [
    "#!pip install psycopg2"
   ]
  },
  {
   "cell_type": "code",
   "execution_count": null,
   "metadata": {},
   "outputs": [],
   "source": [
    "#pip install elasticsearch"
   ]
  },
  {
   "cell_type": "code",
   "execution_count": null,
   "metadata": {},
   "outputs": [],
   "source": [
    "import json\n",
    "import requests\n",
    "import datetime\n",
    "import time\n",
    "import os\n",
    "import psycopg2\n",
    "import pandas as pd\n",
    "from urllib.request import urlopen\n",
    "import json\n",
    "import csv\n",
    "from pprint import pprint\n",
    "from psycopg2.extensions import ISOLATION_LEVEL_AUTOCOMMIT \n",
    "from datetime import datetime\n"
   ]
  },
  {
   "cell_type": "code",
   "execution_count": null,
   "metadata": {},
   "outputs": [],
   "source": [
    "from elasticsearch import Elasticsearch, helpers \n",
    "\n",
    "es = Elasticsearch('http://localhost:9200')\n"
   ]
  },
  {
   "cell_type": "code",
   "execution_count": null,
   "metadata": {},
   "outputs": [],
   "source": [
    "def set_data(input_file, index_name = \"divvy_station_logs\", doc_type_name=\"log\"):\n",
    "    for line in input_file:\n",
    "        \n",
    "        yield {\n",
    "            \"_index\": index_name,\n",
    "            \"_type\": doc_type_name,\n",
    "            \"_source\": line\n",
    "            \n",
    "        }\n"
   ]
  },
  {
   "cell_type": "code",
   "execution_count": null,
   "metadata": {},
   "outputs": [],
   "source": [
    "def load(es, input_file, **kwargs):\n",
    "    success, _ = helpers.bulk(es, set_data(input_file, **kwargs))"
   ]
  },
  {
   "cell_type": "code",
   "execution_count": null,
   "metadata": {},
   "outputs": [],
   "source": [
    "# Get divvy statations status\n",
    "# Status is returned as a json reply\n",
    "\n",
    "# response = urlopen('https://feeds.divvybikes.com/stations/stations.json')\n",
    "\n",
    "response_stations_info = urlopen('https://gbfs.divvybikes.com/gbfs/en/station_information.json')\n",
    "\n",
    "response = urlopen('https://gbfs.divvybikes.com/gbfs/en/station_status.json')\n",
    "\n",
    "# Extract the body of the reply\n",
    "response_body = response.read()\n",
    "response_stations_info = response_stations_info.read()\n",
    "\n",
    "# Decode the format in json format\n",
    "stations_json = json.loads(response_body.decode(\"utf-8\"))\n",
    "stations_info_json = json.loads(response_stations_info.decode(\"utf-8\"))"
   ]
  },
  {
   "cell_type": "code",
   "execution_count": null,
   "metadata": {},
   "outputs": [],
   "source": [
    "pprint(stations_json)\n"
   ]
  },
  {
   "cell_type": "code",
   "execution_count": null,
   "metadata": {},
   "outputs": [],
   "source": [
    "pprint(stations_info_json)"
   ]
  },
  {
   "cell_type": "code",
   "execution_count": null,
   "metadata": {},
   "outputs": [],
   "source": [
    "\n",
    "\n",
    "\n",
    "db_connection = psycopg2.connect(host='127.0.0.1',dbname=\"postgres\", user=\"postgres\" , password=\"root\")\n",
    "\n",
    "\n"
   ]
  },
  {
   "cell_type": "code",
   "execution_count": null,
   "metadata": {},
   "outputs": [],
   "source": [
    "db_connection.set_isolation_level(ISOLATION_LEVEL_AUTOCOMMIT) \n",
    "\n",
    "cursor = db_connection.cursor()\n",
    "\n"
   ]
  },
  {
   "cell_type": "code",
   "execution_count": null,
   "metadata": {},
   "outputs": [],
   "source": [
    "# uncomment the following line if you already created the database \n",
    "# Only once you need to create the database\n",
    "\n",
    "#cursor.execute(\"CREATE DATABASE chicago_divvy_stations_status;\")\n",
    "db_connection.commit()\n"
   ]
  },
  {
   "cell_type": "code",
   "execution_count": null,
   "metadata": {},
   "outputs": [],
   "source": [
    "\n",
    "db_connection = psycopg2.connect(host='127.0.0.1',dbname=\"chicago_divvy_stations_status\", user=\"postgres\" , password=\"root\")\n",
    "\n",
    "cursor = db_connection.cursor()"
   ]
  },
  {
   "cell_type": "code",
   "execution_count": null,
   "metadata": {},
   "outputs": [],
   "source": [
    "# Only once you need to create the postgis extension.\n",
    "# Comment the following line if you already created the postgis extension\n",
    "\n",
    "#cursor.execute(\"CREATE EXTENSION postgis;\")"
   ]
  },
  {
   "cell_type": "code",
   "execution_count": null,
   "metadata": {},
   "outputs": [],
   "source": [
    "db_connection.commit()"
   ]
  },
  {
   "cell_type": "code",
   "execution_count": null,
   "metadata": {},
   "outputs": [],
   "source": [
    "cursor.execute(\"DROP TABLE IF EXISTS divvy_stations_realtime_status\")\n"
   ]
  },
  {
   "cell_type": "code",
   "execution_count": null,
   "metadata": {},
   "outputs": [],
   "source": [
    "db_connection.commit()"
   ]
  },
  {
   "cell_type": "code",
   "execution_count": null,
   "metadata": {},
   "outputs": [],
   "source": [
    "cursor.execute(\"\"\"CREATE TABLE divvy_stations_realtime_status(\n",
    "                altitude FLOAT,\n",
    "                availableBikes INTEGER,\n",
    "                availableDocks INTEGER,\n",
    "                city TEXT,\n",
    "                id BIGINT,\n",
    "                is_renting BOOLEAN,\n",
    "                kioskType TEXT,\n",
    "                landMark TEXT,\n",
    "                lastCommunicationTime timestamp,\n",
    "                latitude FLOAT,\n",
    "                location TEXT,\n",
    "                longitude FLOAT,\n",
    "                postalCode INTEGER,\n",
    "                stAddress1 TEXT,\n",
    "                stAddress2 TEXT,\n",
    "                stationName TEXT,\n",
    "                status TEXT,\n",
    "                statusKey INTEGER,\n",
    "                statusValue TEXT,\n",
    "                testStation BOOLEAN,\n",
    "                totalDocks INTEGER,\n",
    "                Where_IS GEOGRAPHY);\"\"\")"
   ]
  },
  {
   "cell_type": "code",
   "execution_count": null,
   "metadata": {},
   "outputs": [],
   "source": [
    "db_connection.commit()"
   ]
  },
  {
   "cell_type": "markdown",
   "metadata": {},
   "source": [
    "### The following is the Heartbeat Loop - Pulls data from divvy every 2 minutes in order to get realtime updates for the different divvy stations"
   ]
  },
  {
   "cell_type": "code",
   "execution_count": null,
   "metadata": {
    "scrolled": true
   },
   "outputs": [],
   "source": [
    "\n",
    "while True:\n",
    "    # Get divvy statations status\n",
    "    # Status is returned as a json reply\n",
    "\n",
    "    response_stations_info = urlopen('https://gbfs.divvybikes.com/gbfs/en/station_information.json')\n",
    "\n",
    "    response = urlopen('https://gbfs.divvybikes.com/gbfs/en/station_status.json')\n",
    "\n",
    "    # Extract the body of the reply\n",
    "    response_body = response.read()\n",
    "    response_stations_info = response_stations_info.read()\n",
    "\n",
    "    # Decode the format in json format\n",
    "    stations_json = json.loads(response_body.decode(\"utf-8\"))\n",
    "    stations_info_json = json.loads(response_stations_info.decode(\"utf-8\"))\n",
    "    \n",
    "    \n",
    "    stations_dictionary = stations_json['data']\n",
    "    stations_info_dictionary = stations_info_json['data']\n",
    "    \n",
    "    # load data file into a dataframe\n",
    "    df__stations = pd.DataFrame(stations_dictionary['stations'])\n",
    "    df__stations_info = pd.DataFrame(stations_info_dictionary['stations'])\n",
    "    \n",
    "    divvy_stations_realtime_status = pd.DataFrame(columns=[\n",
    "                'altitude',\n",
    "                'availableBikes',\n",
    "                'availableDocks',\n",
    "                'city',\n",
    "                'id',\n",
    "                'is_renting',\n",
    "                'kioskType',\n",
    "                'landMark',\n",
    "                'lastCommunicationTime',\n",
    "                'latitude',\n",
    "                'location',\n",
    "                'longitude',\n",
    "                'postalCode',\n",
    "                'stAddress1',\n",
    "                'stAddress2',\n",
    "                'stationName',\n",
    "                'status',\n",
    "                'statusKey',\n",
    "                'statusValue',\n",
    "                'testStation',\n",
    "                'totalDocks' ])\n",
    "    \n",
    "    for x in range(len(df__stations.index)):\n",
    "        if not ((df__stations['legacy_id'].iloc[x]).isnumeric()) :\n",
    "            continue\n",
    "        \n",
    "        has_kiosk = df__stations_info['has_kiosk'][df__stations_info['legacy_id'] == df__stations['legacy_id'].iloc[x] ].values[0]\n",
    "        row = [\n",
    "            int(0),\n",
    "            int(df__stations['num_bikes_available'].iloc[x]),\n",
    "            int(df__stations['num_docks_available'].iloc[x]),\n",
    "            'Chicago',\n",
    "            df__stations['legacy_id'].iloc[x],\n",
    "            bool(df__stations['is_renting'].iloc[x]),\n",
    "            has_kiosk,\n",
    "            'Chicago',\n",
    "            datetime.strptime(time.ctime(int(df__stations['last_reported'].iloc[x])), \"%a %b %d %H:%M:%S %Y\").strftime(\"%Y-%m-%d %H:%M:%S\"),\n",
    "            float(df__stations_info['lat'][df__stations_info['legacy_id'] == df__stations['legacy_id'].iloc[x] ].values[0]),\n",
    "            'Chicago',\n",
    "            float(df__stations_info['lon'][df__stations_info['legacy_id'] == df__stations['legacy_id'].iloc[x] ].values[0]),\n",
    "            60602,\n",
    "            'Chicago',\n",
    "            'Chicago',\n",
    "            df__stations_info['name'][df__stations_info['legacy_id'] == df__stations['legacy_id'].iloc[x] ].values[0],\n",
    "            'IN_SERVICE',\n",
    "            1,\n",
    "            'IN_SERVICE',\n",
    "            False,\n",
    "            int(df__stations_info['capacity'][df__stations_info['legacy_id'] == df__stations['legacy_id'].iloc[x] ].values[0])]\n",
    "    \n",
    "        divvy_stations_realtime_status.loc[len(divvy_stations_realtime_status)] = row\n",
    "\n",
    "    print(\"\\n\", row, \"\\n\")\n",
    "        \n",
    "    divvy_stations_realtime_status['altitude'] = divvy_stations_realtime_status['altitude'].astype(float)\n",
    "    divvy_stations_realtime_status['availableBikes'] = divvy_stations_realtime_status['availableBikes'].astype(int)\n",
    "    divvy_stations_realtime_status['availableDocks'] = divvy_stations_realtime_status['availableDocks'].astype(int)\n",
    "    divvy_stations_realtime_status['city'] = divvy_stations_realtime_status.city.astype(str)\n",
    "    divvy_stations_realtime_status['id'] = divvy_stations_realtime_status['id'].astype('int64')\n",
    "    divvy_stations_realtime_status['is_renting'] = divvy_stations_realtime_status['is_renting'].astype(bool)\n",
    "    divvy_stations_realtime_status['kioskType'] = divvy_stations_realtime_status['kioskType'].astype(str)\n",
    "    divvy_stations_realtime_status['landMark'] = divvy_stations_realtime_status['landMark'].astype(str)\n",
    "    divvy_stations_realtime_status['lastCommunicationTime'] = divvy_stations_realtime_status['lastCommunicationTime'].astype(str)\n",
    "    divvy_stations_realtime_status['latitude'] = divvy_stations_realtime_status['latitude'].astype(float)\n",
    "    divvy_stations_realtime_status['location'] = divvy_stations_realtime_status['location'].astype(str)\n",
    "    divvy_stations_realtime_status['longitude'] = divvy_stations_realtime_status['longitude'].astype(float)\n",
    "    divvy_stations_realtime_status['postalCode'] = divvy_stations_realtime_status['postalCode'].astype(int)\n",
    "    divvy_stations_realtime_status['stAddress1'] = divvy_stations_realtime_status['stAddress1'].astype(str)\n",
    "    divvy_stations_realtime_status['stAddress2'] = divvy_stations_realtime_status['stAddress2'].astype(str)\n",
    "    divvy_stations_realtime_status['stationName'] = divvy_stations_realtime_status['stationName'].astype(str)\n",
    "    divvy_stations_realtime_status['status'] = divvy_stations_realtime_status['status'].astype(str)\n",
    "    divvy_stations_realtime_status['statusKey'] = divvy_stations_realtime_status['statusKey'].astype(int)\n",
    "    divvy_stations_realtime_status['statusValue'] = divvy_stations_realtime_status['statusValue'].astype(str)\n",
    "    divvy_stations_realtime_status['testStation'] = divvy_stations_realtime_status['testStation'].astype(bool)\n",
    "    divvy_stations_realtime_status['totalDocks'] = divvy_stations_realtime_status['totalDocks'].astype(int)\n",
    "    \n",
    "    # lets store our data subset into a file\n",
    "    # This way you have a copy of data stored in a file \n",
    "    # that you could use in case you want to debug a problem on the orginal data received\n",
    "\n",
    "    divvy_stations_realtime_status.to_csv('divvy_stations_status.csv',sep=',', encoding='utf-8', index=False)\n",
    "    \n",
    "    # delete existing data in the table\n",
    "    cursor.execute(\"DELETE FROM divvy_stations_realtime_status\")\n",
    "    db_connection.commit()\n",
    "\n",
    "    \n",
    "    # Now we will connect to the database and store divvy data\n",
    "    with open('divvy_stations_status.csv', 'r') as f:\n",
    "        reader = csv.reader(f)\n",
    "        next(reader)  # Skip the header row.\n",
    "        for row in reader:\n",
    "            cursor.execute( \"INSERT INTO divvy_stations_realtime_status VALUES (%s, %s, %s, %s, %s,    %s, %s, %s, %s,%s,   %s, %s, %s, %s,%s,   %s, %s, %s, %s,%s,  %s, NULL)\", row)\n",
    "\n",
    "    \n",
    "    \n",
    "    db_connection.commit()\n",
    "    \n",
    "    cursor.execute(\"UPDATE divvy_stations_realtime_status SET Where_IS = ST_POINT(latitude,longitude);\")\n",
    "    db_connection.commit()\n",
    "    \n",
    "    \n",
    "    # Now we will connect to ElasticSearch database and store divvy data\n",
    "    divvy_stations_realtime_status = divvy_stations_realtime_status.to_json(orient='records')\n",
    "    divvy_stations_realtime_status = json.loads(divvy_stations_realtime_status)\n",
    "    load(es,divvy_stations_realtime_status)\n",
    "    \n",
    "    \n",
    "    # Sleep for 3 minutes; divvy updates its stations status every 2 minutes\n",
    "    now = datetime.now()\n",
    "    timedate = ( (str(now.now())).split('.')[0]).split(' ')[0] + ' ' + ((str(now.now())).split('.')[0]).split(' ')[1]\n",
    " \n",
    "    print(\"\\n\", timedate, ' : Sent Heartbeat to Divvy Servers and Going to sleep for 2 minutes now ...', \"\\n\")\n",
    "    time.sleep(120)    \n",
    "    continue\n",
    "       "
   ]
  },
  {
   "cell_type": "code",
   "execution_count": null,
   "metadata": {},
   "outputs": [],
   "source": [
    "# close connection at the end of the script\n",
    "\n",
    "db_connection.close()"
   ]
  },
  {
   "cell_type": "code",
   "execution_count": null,
   "metadata": {},
   "outputs": [],
   "source": []
  }
 ],
 "metadata": {
  "kernelspec": {
   "display_name": "Python 3.10.6 64-bit",
   "language": "python",
   "name": "python3"
  },
  "language_info": {
   "codemirror_mode": {
    "name": "ipython",
    "version": 3
   },
   "file_extension": ".py",
   "mimetype": "text/x-python",
   "name": "python",
   "nbconvert_exporter": "python",
   "pygments_lexer": "ipython3",
   "version": "3.10.6 (main, Aug 11 2022, 13:49:25) [Clang 13.1.6 (clang-1316.0.21.2.5)]"
  },
  "vscode": {
   "interpreter": {
    "hash": "aee8b7b246df8f9039afb4144a1f6fd8d2ca17a180786b69acc140d282b71a49"
   }
  }
 },
 "nbformat": 4,
 "nbformat_minor": 2
}
